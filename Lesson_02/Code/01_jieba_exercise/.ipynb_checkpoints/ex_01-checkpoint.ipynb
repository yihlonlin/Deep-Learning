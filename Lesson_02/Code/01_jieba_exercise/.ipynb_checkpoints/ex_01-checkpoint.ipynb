{
 "cells": [
  {
   "cell_type": "code",
   "execution_count": 1,
   "metadata": {},
   "outputs": [
    {
     "name": "stderr",
     "output_type": "stream",
     "text": [
      "Building prefix dict from the default dictionary ...\n",
      "Loading model from cache C:\\Users\\User\\AppData\\Local\\Temp\\jieba.cache\n",
      "Loading model cost 0.678 seconds.\n",
      "Prefix dict has been built succesfully.\n"
     ]
    },
    {
     "name": "stdout",
     "output_type": "stream",
     "text": [
      "[('請', 'v'), ('問', 'v'), ('劉懿珊', 'nr'), ('在', 'p'), ('嗎', 'y'), ('\\n', 'x'), ('請', 'v'), ('問', 'v'), ('楊森安', 'nr'), ('在', 'p'), ('嗎', 'y'), ('\\n', 'x'), ('請', 'v'), ('問', 'v'), ('許成名', 'nr'), ('與', 'p'), ('楊森安', 'nr'), ('在', 'p'), ('嗎', 'y'), ('\\n', 'x'), ('請', 'v'), ('問', 'v'), ('陳國熏', 'nr'), ('在', 'p'), ('嗎', 'y'), ('\\n', 'x'), ('請', 'v'), ('問', 'v'), ('許成名', 'nr'), ('與', 'zg'), ('劉懿珊', 'nr'), ('在', 'p'), ('嗎', 'y'), ('\\n', 'x'), ('劉懿珊', 'nr'), ('在', 'p'), ('嗎', 'y'), ('\\n', 'x'), ('楊森安', 'nr'), ('在', 'p'), ('嗎', 'y'), ('\\n', 'x'), ('許成名', 'nr'), ('與', 'p'), ('楊博軒', 'nr'), ('在', 'p'), ('嗎', 'y'), ('\\n', 'x'), ('陳國熏', 'nr'), ('在', 'p'), ('嗎', 'y'), ('\\n', 'x'), ('我', 'r'), ('找', 'v'), ('劉懿珊', 'nr'), ('與', 'p'), ('陳國熏', 'nr'), ('\\n', 'x'), ('我', 'r'), ('找', 'v'), ('楊森安', 'nr'), ('\\n', 'x'), ('我', 'r'), ('找', 'v'), ('劉懿珊', 'nr'), ('\\n', 'x'), ('我', 'r'), ('找', 'v'), ('陳國熏', 'nr'), ('\\n', 'x'), ('我', 'r'), ('找', 'v'), ('楊森安', 'nr'), ('與', 'p'), ('陳國熏', 'nr'), ('\\n', 'x'), ('我', 'r'), ('找', 'v'), ('醫師', 'n'), ('\\n', 'x'), ('你', 'r'), ('幾歲', 'm'), ('呀', 'y'), ('\\n', 'x'), ('幫', 'v'), ('我', 'r'), ('查', 'v'), ('劉懿珊', 'nr'), ('醫師', 'n'), ('門診', 'n'), ('時間', 'n'), ('\\n', 'x'), ('幫', 'v'), ('我', 'r'), ('查', 'v'), ('楊森安', 'nr'), ('醫師', 'n'), ('門診', 'n'), ('時間', 'n'), ('\\n', 'x'), ('幫', 'v'), ('我', 'r'), ('查', 'v'), ('許成名', 'nr'), ('醫師', 'n'), ('門診', 'n'), ('時間', 'n'), ('\\n', 'x'), ('幫', 'v'), ('我', 'r'), ('查', 'v'), ('陳國熏', 'nr'), ('醫師', 'n'), ('門診', 'n'), ('時間', 'n'), ('\\n', 'x'), ('劉懿珊', 'nr'), ('醫師', 'n'), ('門診', 'n'), ('時間', 'n'), ('\\n', 'x'), ('楊森安', 'nr'), ('醫師', 'n'), ('門診', 'n'), ('時間', 'n'), ('\\n', 'x'), ('許成名', 'nr'), ('醫師', 'n'), ('門診', 'n'), ('時間', 'n'), ('\\n', 'x'), ('陳國熏', 'nr'), ('醫師', 'n'), ('門診', 'n'), ('時間', 'n')]\n",
      "['劉懿珊', '楊森安', '許成名', '陳國熏', '楊博軒']\n",
      "5\n"
     ]
    }
   ],
   "source": [
    "import jieba\n",
    "# jieba.set_dictionary(\"Ex01/dict.txt.big\")\n",
    "import sys\n",
    "\n",
    "#print(sys.path)\n",
    "import jieba.posseg as psg\n",
    "\n",
    "#手動更改結巴分割詞句\n",
    "jieba.load_userdict(\"userdict.txt\")\n",
    "jieba.add_word('劉懿珊')\n",
    "jieba.add_word('許成名')\n",
    "#開檔\n",
    "file = open('data.txt', 'r')\n",
    "\n",
    "a = file.read()\n",
    "#分割句子\n",
    "print([(x.word, x.flag) for x in psg.cut(a)])\n"
   ]
  },
  {
   "cell_type": "code",
   "execution_count": null,
   "metadata": {},
   "outputs": [],
   "source": []
  }
 ],
 "metadata": {
  "kernelspec": {
   "display_name": "Python 3",
   "language": "python",
   "name": "python3"
  },
  "language_info": {
   "codemirror_mode": {
    "name": "ipython",
    "version": 3
   },
   "file_extension": ".py",
   "mimetype": "text/x-python",
   "name": "python",
   "nbconvert_exporter": "python",
   "pygments_lexer": "ipython3",
   "version": "3.6.4"
  }
 },
 "nbformat": 4,
 "nbformat_minor": 2
}
