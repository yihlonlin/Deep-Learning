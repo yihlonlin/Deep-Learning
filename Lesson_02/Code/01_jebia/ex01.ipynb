{
 "cells": [
  {
   "cell_type": "code",
   "execution_count": 3,
   "metadata": {},
   "outputs": [
    {
     "name": "stdout",
     "output_type": "stream",
     "text": [
      "皮膚科,在,哪裡,?\n",
      "[('皮膚', 'n'), ('科', 'n'), ('在', 'p'), ('哪裡', 'r'), ('?', 'x')]\n"
     ]
    }
   ],
   "source": [
    "import jieba\n",
    "import jieba.posseg as psg\n",
    "s='皮膚科在哪裡?'\n",
    "cut = jieba.cut(s)\n",
    "print(','.join(cut))\n",
    "print([(x.word,x.flag) for x in psg.cut(s)])"
   ]
  },
  {
   "cell_type": "code",
   "execution_count": 10,
   "metadata": {},
   "outputs": [
    {
     "name": "stdout",
     "output_type": "stream",
     "text": [
      "陳,大義醫師,在,哪裡,?\n"
     ]
    }
   ],
   "source": [
    "s='陳大義醫師在哪裡?'\n",
    "cut = jieba.cut(s)\n",
    "print(','.join(cut))"
   ]
  },
  {
   "cell_type": "code",
   "execution_count": 11,
   "metadata": {},
   "outputs": [
    {
     "name": "stdout",
     "output_type": "stream",
     "text": [
      "心臟科,在,哪裡,?\n",
      "[('心臟科', 'n'), ('在', 'p'), ('哪裡', 'r'), ('?', 'x')]\n"
     ]
    }
   ],
   "source": [
    "s='心臟科在哪裡?'\n",
    "cut = jieba.cut(s)\n",
    "print(','.join(cut))\n",
    "print([(x.word,x.flag) for x in psg.cut(s)])"
   ]
  },
  {
   "cell_type": "code",
   "execution_count": 12,
   "metadata": {},
   "outputs": [
    {
     "name": "stdout",
     "output_type": "stream",
     "text": [
      "[('心臟科', 'n'), ('在', 'p'), ('哪裡', 'r'), ('?', 'x')]\n",
      "腦,外科,怎,麽,走,?\n"
     ]
    }
   ],
   "source": [
    "cut = jieba.cut(s)\n",
    "print([(x.word,x.flag) for x in psg.cut(s)])\n",
    "s='腦外科怎麽走?'\n",
    "cut = jieba.cut(s)\n",
    "print(','.join(cut))"
   ]
  },
  {
   "cell_type": "code",
   "execution_count": 14,
   "metadata": {},
   "outputs": [
    {
     "name": "stdout",
     "output_type": "stream",
     "text": [
      "[('腦', 'zg'), ('外科', 'n'), ('在', 'p'), ('哪裡', 'r'), ('?', 'x')]\n",
      "腦,外科,在,哪裡,?\n"
     ]
    }
   ],
   "source": [
    "print([(x.word,x.flag) for x in psg.cut(s)])\n",
    "s='腦外科在哪裡?'\n",
    "cut = jieba.cut(s)\n",
    "print(','.join(cut))"
   ]
  },
  {
   "cell_type": "code",
   "execution_count": 15,
   "metadata": {},
   "outputs": [
    {
     "name": "stdout",
     "output_type": "stream",
     "text": [
      "[('腦', 'zg'), ('外科', 'n'), ('在', 'p'), ('哪裡', 'r'), ('?', 'x')]\n"
     ]
    }
   ],
   "source": [
    "print([(x.word,x.flag) for x in psg.cut(s)])"
   ]
  }
 ],
 "metadata": {
  "kernelspec": {
   "display_name": "Python 3",
   "language": "python",
   "name": "python3"
  },
  "language_info": {
   "codemirror_mode": {
    "name": "ipython",
    "version": 3
   },
   "file_extension": ".py",
   "mimetype": "text/x-python",
   "name": "python",
   "nbconvert_exporter": "python",
   "pygments_lexer": "ipython3",
   "version": "3.6.4"
  }
 },
 "nbformat": 4,
 "nbformat_minor": 2
}
