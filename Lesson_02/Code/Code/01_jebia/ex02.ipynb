{
 "cells": [
  {
   "cell_type": "code",
   "execution_count": 7,
   "metadata": {},
   "outputs": [
    {
     "name": "stdout",
     "output_type": "stream",
     "text": [
      "周兆明,老師,在,哪裡\n",
      "[('周兆明', 'nr'), ('老師', 'n'), ('在', 'p'), ('哪裡', 'r')]\n"
     ]
    }
   ],
   "source": [
    "import jieba\n",
    "import jieba.posseg as psg\n",
    "s='周兆明老師在哪裡'\n",
    "cut = jieba.cut(s)\n",
    "print(','.join(cut))\n",
    "print([(x.word,x.flag) for x in psg.cut(s)])"
   ]
  },
  {
   "cell_type": "code",
   "execution_count": 8,
   "metadata": {},
   "outputs": [
    {
     "name": "stdout",
     "output_type": "stream",
     "text": [
      "我要,找,王小明,老師\n",
      "[('我', 'r'), ('要', 'v'), ('找', 'v'), ('王小明', 'nr'), ('老師', 'n')]\n"
     ]
    }
   ],
   "source": [
    "s='我要找王小明老師'\n",
    "cut = jieba.cut(s)\n",
    "print(','.join(cut))\n",
    "print([(x.word,x.flag) for x in psg.cut(s)])"
   ]
  },
  {
   "cell_type": "code",
   "execution_count": 9,
   "metadata": {},
   "outputs": [
    {
     "name": "stdout",
     "output_type": "stream",
     "text": [
      "丁,釩,在,哪裡\n",
      "[('丁釩', 'nr'), ('在', 'p'), ('哪裡', 'r')]\n"
     ]
    }
   ],
   "source": [
    "s='丁釩在哪裡'\n",
    "cut = jieba.cut(s)\n",
    "print(','.join(cut))\n",
    "print([(x.word,x.flag) for x in psg.cut(s)])"
   ]
  },
  {
   "cell_type": "code",
   "execution_count": 10,
   "metadata": {},
   "outputs": [
    {
     "name": "stdout",
     "output_type": "stream",
     "text": [
      "我要,找,丁,釩\n",
      "[('我', 'r'), ('要', 'v'), ('找', 'v'), ('丁', 'nr'), ('釩', 'n')]\n"
     ]
    }
   ],
   "source": [
    "s='我要找丁釩'\n",
    "cut = jieba.cut(s)\n",
    "print(','.join(cut))\n",
    "print([(x.word,x.flag) for x in psg.cut(s)])"
   ]
  }
 ],
 "metadata": {
  "kernelspec": {
   "display_name": "Python 3",
   "language": "python",
   "name": "python3"
  },
  "language_info": {
   "codemirror_mode": {
    "name": "ipython",
    "version": 3
   },
   "file_extension": ".py",
   "mimetype": "text/x-python",
   "name": "python",
   "nbconvert_exporter": "python",
   "pygments_lexer": "ipython3",
   "version": "3.6.4"
  }
 },
 "nbformat": 4,
 "nbformat_minor": 2
}
