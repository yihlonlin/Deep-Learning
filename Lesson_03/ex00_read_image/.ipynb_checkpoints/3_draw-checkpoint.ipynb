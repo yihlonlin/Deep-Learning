{
 "cells": [
  {
   "cell_type": "code",
   "execution_count": null,
   "metadata": {},
   "outputs": [],
   "source": [
    "import cv2\n",
    "cv2.namedWindow(\"MyPicture\")                            \n",
    "img = cv2.imread(\"image01/test3.jpg\")                     \n",
    "cv2.line(img,(100,100),(1200,100),(255,0,0),2)         \n",
    "cv2.rectangle(img,(100,200),(1200,400),(0,0,255),2)     \n",
    "cv2.putText(img,\"I Like Python\",(400,350),             \n",
    "            cv2.FONT_ITALIC,3,(255,0,0),8)\n",
    "cv2.imshow(\"MyPicture\", img)                            \n",
    "cv2.waitKey(0)                                       \n",
    "cv2.destroyAllWindows()                                "
   ]
  },
  {
   "cell_type": "code",
   "execution_count": null,
   "metadata": {},
   "outputs": [],
   "source": []
  }
 ],
 "metadata": {
  "kernelspec": {
   "display_name": "Python 3",
   "language": "python",
   "name": "python3"
  },
  "language_info": {
   "codemirror_mode": {
    "name": "ipython",
    "version": 3
   },
   "file_extension": ".py",
   "mimetype": "text/x-python",
   "name": "python",
   "nbconvert_exporter": "python",
   "pygments_lexer": "ipython3",
   "version": "3.6.4"
  }
 },
 "nbformat": 4,
 "nbformat_minor": 2
}
