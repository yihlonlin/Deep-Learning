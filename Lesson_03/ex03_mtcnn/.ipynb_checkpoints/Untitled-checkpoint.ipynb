{
 "cells": [
  {
   "cell_type": "code",
   "execution_count": 6,
   "metadata": {},
   "outputs": [
    {
     "name": "stdout",
     "output_type": "stream",
     "text": [
      "Requirement already satisfied: mtcnn in c:\\python36\\lib\\site-packages (0.0.9)\n"
     ]
    }
   ],
   "source": [
    "!pip install mtcnn"
   ]
  },
  {
   "cell_type": "code",
   "execution_count": null,
   "metadata": {},
   "outputs": [],
   "source": [
    "from mtcnn.mtcnn import MTCNN\n",
    "import cv2\n",
    "\n",
    "img = cv2.imread(\"test.jpg\")\n",
    "detector = MTCNN()\n",
    "\n",
    "face_list = detector.detect_faces(img) # face detect and alignment\n",
    "\n",
    "for face in face_list:\n",
    "    box = face[\"box\"]\n",
    "    confidence = face[\"confidence\"]\n",
    "    keypoints = face[\"keypoints\"]\n",
    "    \n",
    "    # draw boundingbox\n",
    "    x,y,w,h = box\n",
    "    cv2.rectangle(img,(x,y),(x+w,y+h),(0,255,0),2)\n",
    "    \n",
    "    # put the confidence\n",
    "    cv2.putText(img,str(round(confidence,4)),(x,y-10),0,0.5,(255,0,0))\n",
    "    \n",
    "    # draw keypoints\n",
    "    cv2.circle(img,keypoints[\"left_eye\"],1,(0,0,255),2)\n",
    "    cv2.circle(img,keypoints[\"right_eye\"],1,(0,0,255),2)\n",
    "    cv2.circle(img,keypoints[\"nose\"],1,(0,0,255),2)\n",
    "    cv2.circle(img,keypoints[\"mouth_left\"],1,(0,0,255),2)\n",
    "    cv2.circle(img,keypoints[\"mouth_right\"],1,(0,0,255),2)\n",
    "   \n",
    "cv2.imwrite(\"result.jpg\",img)"
   ]
  }
 ],
 "metadata": {
  "kernelspec": {
   "display_name": "Python 3",
   "language": "python",
   "name": "python3"
  },
  "language_info": {
   "codemirror_mode": {
    "name": "ipython",
    "version": 3
   },
   "file_extension": ".py",
   "mimetype": "text/x-python",
   "name": "python",
   "nbconvert_exporter": "python",
   "pygments_lexer": "ipython3",
   "version": "3.6.4"
  }
 },
 "nbformat": 4,
 "nbformat_minor": 2
}
