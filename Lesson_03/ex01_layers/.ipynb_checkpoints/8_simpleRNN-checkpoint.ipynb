{
 "cells": [
  {
   "cell_type": "code",
   "execution_count": 5,
   "metadata": {},
   "outputs": [
    {
     "name": "stdout",
     "output_type": "stream",
     "text": [
      "_________________________________________________________________\n",
      "Layer (type)                 Output Shape              Param #   \n",
      "=================================================================\n",
      "dense_1 (Dense)              (None, 5)                 25        \n",
      "=================================================================\n",
      "Total params: 25\n",
      "Trainable params: 25\n",
      "Non-trainable params: 0\n",
      "_________________________________________________________________\n",
      "(None, 4)\n",
      "(None, 5)\n"
     ]
    }
   ],
   "source": [
    "from keras.preprocessing import sequence\n",
    "from keras.layers import Dense, Embedding, SimpleRNN, Conv2D\n",
    "from keras.models import Sequential\n",
    "\n",
    "model = Sequential()\n",
    "# input: (*, 4) and output: (*, 5)\n",
    "model.add(Dense(5, input_shape=(4,)))\n",
    "model.summary()\n",
    "print(model.input_shape)\n",
    "print(model.output_shape)"
   ]
  },
  {
   "cell_type": "code",
   "execution_count": 6,
   "metadata": {},
   "outputs": [
    {
     "name": "stdout",
     "output_type": "stream",
     "text": [
      "_________________________________________________________________\n",
      "Layer (type)                 Output Shape              Param #   \n",
      "=================================================================\n",
      "dense_2 (Dense)              (None, 8, 5)              25        \n",
      "=================================================================\n",
      "Total params: 25\n",
      "Trainable params: 25\n",
      "Non-trainable params: 0\n",
      "_________________________________________________________________\n",
      "(None, 8, 4)\n",
      "(None, 8, 5)\n"
     ]
    }
   ],
   "source": [
    "from keras.preprocessing import sequence\n",
    "from keras.layers import Dense, Embedding, SimpleRNN, Conv2D\n",
    "from keras.models import Sequential\n",
    "\n",
    "model = Sequential()\n",
    "# input: (*, 4) and output: (*, 8, 5)\n",
    "model.add(Dense(5, input_shape=(8,4)))\n",
    "model.summary()\n",
    "print(model.input_shape)\n",
    "print(model.output_shape)"
   ]
  },
  {
   "cell_type": "code",
   "execution_count": 4,
   "metadata": {},
   "outputs": [
    {
     "name": "stdout",
     "output_type": "stream",
     "text": [
      "_________________________________________________________________\n",
      "Layer (type)                 Output Shape              Param #   \n",
      "=================================================================\n",
      "simple_rnn_4 (SimpleRNN)     (None, 5)                 50        \n",
      "=================================================================\n",
      "Total params: 50\n",
      "Trainable params: 50\n",
      "Non-trainable params: 0\n",
      "_________________________________________________________________\n",
      "(None, 8, 4)\n",
      "(None, 5)\n"
     ]
    }
   ],
   "source": [
    "from keras.preprocessing import sequence\n",
    "from keras.layers import Dense, Embedding, SimpleRNN, Conv2D\n",
    "from keras.models import Sequential\n",
    "#1.return_sequences=False && return_state=False\n",
    "#return_sequence=Fasle: 返回在输出序列中的最後一個输出\n",
    "model = Sequential()\n",
    "model.add(SimpleRNN(5, input_shape=(8,4)))\n",
    "#(4+1)*5+5*5\n",
    "model.summary()\n",
    "print(model.input_shape)\n",
    "print(model.output_shape)"
   ]
  },
  {
   "cell_type": "code",
   "execution_count": 7,
   "metadata": {},
   "outputs": [
    {
     "name": "stdout",
     "output_type": "stream",
     "text": [
      "_________________________________________________________________\n",
      "Layer (type)                 Output Shape              Param #   \n",
      "=================================================================\n",
      "simple_rnn_5 (SimpleRNN)     (None, 8, 5)              50        \n",
      "=================================================================\n",
      "Total params: 50\n",
      "Trainable params: 50\n",
      "Non-trainable params: 0\n",
      "_________________________________________________________________\n",
      "(None, 8, 4)\n",
      "(None, 8, 5)\n"
     ]
    }
   ],
   "source": [
    "from keras.preprocessing import sequence\n",
    "from keras.layers import Dense, Embedding, SimpleRNN, Conv2D\n",
    "from keras.models import Sequential\n",
    "#2.return_sequences=True && return_state=False\n",
    "#return_sequence=True: 返回在输出序列中的所有输出\n",
    "model = Sequential()\n",
    "model.add(SimpleRNN(5, input_shape=(8,4), return_sequences=True))\n",
    "model.summary()\n",
    "print(model.input_shape)\n",
    "print(model.output_shape)"
   ]
  },
  {
   "cell_type": "code",
   "execution_count": 9,
   "metadata": {},
   "outputs": [
    {
     "name": "stdout",
     "output_type": "stream",
     "text": [
      "_________________________________________________________________\n",
      "Layer (type)                 Output Shape              Param #   \n",
      "=================================================================\n",
      "input_2 (InputLayer)         (None, 8, 4)              0         \n",
      "_________________________________________________________________\n",
      "simple_rnn_7 (SimpleRNN)     [(None, 5), (None, 5)]    50        \n",
      "=================================================================\n",
      "Total params: 50\n",
      "Trainable params: 50\n",
      "Non-trainable params: 0\n",
      "_________________________________________________________________\n",
      "(None, 8, 4)\n",
      "[(None, 5), (None, 5)]\n"
     ]
    }
   ],
   "source": [
    "from keras.preprocessing import sequence\n",
    "from keras.layers import Dense, Embedding, SimpleRNN, Conv2D, Input\n",
    "from keras.models import Sequential\n",
    "from keras import Model\n",
    "#using functional API\n",
    "#3.return_sequences=False && return_state=True\n",
    "inputs1 = Input(shape=(8,4))\n",
    "simplernn1 = SimpleRNN(5, return_state=True)(inputs1)\n",
    "model = Model(inputs=inputs1, outputs=simplernn1)\n",
    "model.summary()\n",
    "print(model.input_shape)\n",
    "print(model.output_shape)"
   ]
  },
  {
   "cell_type": "code",
   "execution_count": 21,
   "metadata": {},
   "outputs": [
    {
     "name": "stdout",
     "output_type": "stream",
     "text": [
      "_________________________________________________________________\n",
      "Layer (type)                 Output Shape              Param #   \n",
      "=================================================================\n",
      "embedding_12 (Embedding)     (None, 10, 64)            64000     \n",
      "_________________________________________________________________\n",
      "simple_rnn_19 (SimpleRNN)    (None, 5)                 350       \n",
      "=================================================================\n",
      "Total params: 64,350\n",
      "Trainable params: 64,350\n",
      "Non-trainable params: 0\n",
      "_________________________________________________________________\n",
      "(None, 10)\n",
      "(None, 5)\n"
     ]
    }
   ],
   "source": [
    "from keras.preprocessing import sequence\n",
    "from keras.layers import Dense, Embedding, SimpleRNN, Conv2D\n",
    "from keras.models import Sequential\n",
    "\n",
    "model = Sequential()\n",
    "model.add(Embedding(1000, 64, input_length=10))\n",
    "model.add(SimpleRNN(5))\n",
    "model.summary()\n",
    "print(model.input_shape)\n",
    "print(model.output_shape)"
   ]
  },
  {
   "cell_type": "code",
   "execution_count": 4,
   "metadata": {},
   "outputs": [
    {
     "name": "stdout",
     "output_type": "stream",
     "text": [
      "_________________________________________________________________\n",
      "Layer (type)                 Output Shape              Param #   \n",
      "=================================================================\n",
      "embedding_4 (Embedding)      (None, 10, 64)            64000     \n",
      "=================================================================\n",
      "Total params: 64,000\n",
      "Trainable params: 64,000\n",
      "Non-trainable params: 0\n",
      "_________________________________________________________________\n",
      "(None, 10)\n",
      "(None, 10, 64)\n",
      "_________________________________________________________________\n",
      "Layer (type)                 Output Shape              Param #   \n",
      "=================================================================\n",
      "embedding_4 (Embedding)      (None, 10, 64)            64000     \n",
      "_________________________________________________________________\n",
      "simple_rnn_4 (SimpleRNN)     (None, 5)                 350       \n",
      "=================================================================\n",
      "Total params: 64,350\n",
      "Trainable params: 64,350\n",
      "Non-trainable params: 0\n",
      "_________________________________________________________________\n",
      "(None, 10)\n",
      "(None, 5)\n"
     ]
    }
   ],
   "source": [
    "from keras.preprocessing import sequence\n",
    "from keras.layers import Dense, Embedding, SimpleRNN, Conv2D\n",
    "from keras.models import Sequential\n",
    "\n",
    "model = Sequential()\n",
    "model.add(Embedding(1000, 64, input_length=10))\n",
    "model.add(SimpleRNN(5, input_shape=(10,)))\n",
    "model.summary()\n",
    "print(model.input_shape)\n",
    "print(model.output_shape)"
   ]
  },
  {
   "cell_type": "code",
   "execution_count": 2,
   "metadata": {},
   "outputs": [
    {
     "name": "stdout",
     "output_type": "stream",
     "text": [
      "(None, 10)\n",
      "(None, 10, 64)\n",
      "_________________________________________________________________\n",
      "Layer (type)                 Output Shape              Param #   \n",
      "=================================================================\n",
      "embedding_2 (Embedding)      (None, 10, 64)            640000    \n",
      "_________________________________________________________________\n",
      "simple_rnn_2 (SimpleRNN)     (None, 5)                 350       \n",
      "=================================================================\n",
      "Total params: 640,350\n",
      "Trainable params: 640,350\n",
      "Non-trainable params: 0\n",
      "_________________________________________________________________\n",
      "(None, 10)\n",
      "(None, 5)\n"
     ]
    }
   ],
   "source": [
    "from keras.preprocessing import sequence\n",
    "from keras.layers import Dense, Embedding, SimpleRNN, Conv2D\n",
    "from keras.models import Sequential\n",
    "\n",
    "model = Sequential()\n",
    "\n",
    "model.add(Embedding(10000, 64, input_length = 10))\n",
    "print(model.input_shape)\n",
    "print(model.output_shape)\n",
    "\n",
    "#model = Sequential()\n",
    "model.add(SimpleRNN(5, input_shape=(10,4))) \n",
    "model.summary()\n",
    "print(model.input_shape)\n",
    "print(model.output_shape)"
   ]
  },
  {
   "cell_type": "markdown",
   "metadata": {},
   "source": [
    "<img src=\"https://i.stack.imgur.com/13opm.jpg\" width=\"644px\" height:\"459px\"/>"
   ]
  },
  {
   "cell_type": "code",
   "execution_count": 2,
   "metadata": {},
   "outputs": [],
   "source": [
    "# https://hironsan.hatenablog.com/entry/get-rnn-state-with-keras\n",
    "# http://zake7749.github.io/2017/09/28/Sequence-to-Sequence-tutorial/"
   ]
  }
 ],
 "metadata": {
  "kernelspec": {
   "display_name": "Python 3",
   "language": "python",
   "name": "python3"
  },
  "language_info": {
   "codemirror_mode": {
    "name": "ipython",
    "version": 3
   },
   "file_extension": ".py",
   "mimetype": "text/x-python",
   "name": "python",
   "nbconvert_exporter": "python",
   "pygments_lexer": "ipython3",
   "version": "3.6.4"
  }
 },
 "nbformat": 4,
 "nbformat_minor": 2
}
