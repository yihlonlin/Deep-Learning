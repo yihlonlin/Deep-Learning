{
 "cells": [
  {
   "cell_type": "code",
   "execution_count": 2,
   "metadata": {},
   "outputs": [
    {
     "name": "stdout",
     "output_type": "stream",
     "text": [
      "_________________________________________________________________\n",
      "Layer (type)                 Output Shape              Param #   \n",
      "=================================================================\n",
      "input_2 (InputLayer)         (None, 5, 5, 1)           0         \n",
      "_________________________________________________________________\n",
      "conv2d_2 (Conv2D)            (None, 3, 3, 1)           10        \n",
      "=================================================================\n",
      "Total params: 10\n",
      "Trainable params: 10\n",
      "Non-trainable params: 0\n",
      "_________________________________________________________________\n"
     ]
    }
   ],
   "source": [
    "#Convolution -1\n",
    "from keras.models import Model\n",
    "from keras.layers import Input, Conv2D\n",
    "inputs = Input(shape=(5, 5, 1))\n",
    "outputs = Conv2D(1, kernel_size=3, strides=(1, 1), padding='valid')(inputs)\n",
    "model_c4_v1 = Model(inputs=[inputs], outputs=[outputs])\n",
    "model_c4_v1.summary()"
   ]
  },
  {
   "cell_type": "code",
   "execution_count": 3,
   "metadata": {},
   "outputs": [
    {
     "name": "stdout",
     "output_type": "stream",
     "text": [
      "_________________________________________________________________\n",
      "Layer (type)                 Output Shape              Param #   \n",
      "=================================================================\n",
      "conv2d_3 (Conv2D)            (None, 3, 3, 1)           10        \n",
      "=================================================================\n",
      "Total params: 10\n",
      "Trainable params: 10\n",
      "Non-trainable params: 0\n",
      "_________________________________________________________________\n"
     ]
    }
   ],
   "source": [
    "#Convolution -2\n",
    "from keras.models import Model\n",
    "from keras.layers import Input, Conv2D\n",
    "from keras.models import Sequential\n",
    "model_c4_v2 = Sequential()\n",
    "model_c4_v2.add(Conv2D(1, kernel_size=3, strides=(1, 1), padding='valid', input_shape=(5,5,1)))\n",
    "model_c4_v2.summary()"
   ]
  },
  {
   "cell_type": "code",
   "execution_count": 14,
   "metadata": {
    "scrolled": true
   },
   "outputs": [
    {
     "name": "stdout",
     "output_type": "stream",
     "text": [
      "_________________________________________________________________\n",
      "Layer (type)                 Output Shape              Param #   \n",
      "=================================================================\n",
      "input_12 (InputLayer)        (None, 3, 3, 1)           0         \n",
      "_________________________________________________________________\n",
      "conv2d_transpose_11 (Conv2DT (None, 5, 5, 1)           10        \n",
      "=================================================================\n",
      "Total params: 10\n",
      "Trainable params: 10\n",
      "Non-trainable params: 0\n",
      "_________________________________________________________________\n"
     ]
    }
   ],
   "source": [
    "#Deconvolution -1\n",
    "from keras.models import Model\n",
    "from keras.layers import Input, Conv2DTranspose\n",
    "inputs = Input(shape=(3, 3, 1))\n",
    "outputs = Conv2DTranspose(1, kernel_size=3, strides=(1, 1), padding='valid')(inputs)\n",
    "model_dc4_v1 = Model(inputs=[inputs], outputs=[outputs])\n",
    "model_dc4_v1.summary()"
   ]
  },
  {
   "cell_type": "code",
   "execution_count": 6,
   "metadata": {},
   "outputs": [
    {
     "name": "stdout",
     "output_type": "stream",
     "text": [
      "_________________________________________________________________\n",
      "Layer (type)                 Output Shape              Param #   \n",
      "=================================================================\n",
      "conv2d_transpose_6 (Conv2DTr (None, 5, 5, 1)           10        \n",
      "=================================================================\n",
      "Total params: 10\n",
      "Trainable params: 10\n",
      "Non-trainable params: 0\n",
      "_________________________________________________________________\n"
     ]
    }
   ],
   "source": [
    "#Deconvolution -2\n",
    "from keras.models import Model\n",
    "from keras.layers import Input, Deconv2D\n",
    "from keras.models import Sequential\n",
    "model_dc4_v2 = Sequential()\n",
    "model_dc4_v2.add(Deconv2D(1, kernel_size=3, strides=(1, 1), input_shape=(3,3,1), padding='valid'))\n",
    "model_dc4_v2.summary()"
   ]
  },
  {
   "cell_type": "code",
   "execution_count": null,
   "metadata": {},
   "outputs": [],
   "source": []
  }
 ],
 "metadata": {
  "kernelspec": {
   "display_name": "Python 3",
   "language": "python",
   "name": "python3"
  },
  "language_info": {
   "codemirror_mode": {
    "name": "ipython",
    "version": 3
   },
   "file_extension": ".py",
   "mimetype": "text/x-python",
   "name": "python",
   "nbconvert_exporter": "python",
   "pygments_lexer": "ipython3",
   "version": "3.6.4"
  }
 },
 "nbformat": 4,
 "nbformat_minor": 2
}
